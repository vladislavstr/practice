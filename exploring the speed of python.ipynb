{
 "cells": [
  {
   "cell_type": "code",
   "execution_count": 1,
   "metadata": {},
   "outputs": [],
   "source": [
    "import math "
   ]
  },
  {
   "cell_type": "code",
   "execution_count": 2,
   "metadata": {},
   "outputs": [],
   "source": [
    "def is_prime(num):\n",
    "    if num ==2:\n",
    "        return True\n",
    "    if num <= 1 or not num % 2:\n",
    "        return False\n",
    "    for div in range (3, int(math.sqrt(num)) + 1, 2):\n",
    "        if not num % div:\n",
    "            return False \n",
    "    return True          "
   ]
  },
  {
   "cell_type": "code",
   "execution_count": 3,
   "metadata": {},
   "outputs": [],
   "source": [
    "def run_progarm(N):\n",
    "    for i in range(N):\n",
    "        res = is_prime(i)\n",
    "        print(f'{i} - {res}')"
   ]
  },
  {
   "cell_type": "code",
   "execution_count": 4,
   "metadata": {},
   "outputs": [
    {
     "name": "stdout",
     "output_type": "stream",
     "text": [
      "0 - False\n",
      "1 - False\n",
      "2 - True\n",
      "3 - True\n",
      "4 - False\n",
      "5 - True\n",
      "6 - False\n",
      "7 - True\n",
      "8 - False\n",
      "9 - False\n",
      "10 - False\n",
      "11 - True\n",
      "12 - False\n",
      "13 - True\n",
      "14 - False\n",
      "15 - False\n",
      "16 - False\n",
      "17 - True\n",
      "18 - False\n",
      "19 - True\n"
     ]
    }
   ],
   "source": [
    "if __name__ == '__main__':\n",
    "    N = 20\n",
    "    run_progarm(N)"
   ]
  },
  {
   "cell_type": "code",
   "execution_count": 5,
   "metadata": {},
   "outputs": [],
   "source": [
    "from time import perf_counter\n",
    "from itertools import product"
   ]
  },
  {
   "cell_type": "code",
   "execution_count": 6,
   "metadata": {},
   "outputs": [],
   "source": [
    "def run_progarm(N):\n",
    "    for i in range(N):\n",
    "        is_prime(i)        "
   ]
  },
  {
   "cell_type": "code",
   "execution_count": 11,
   "metadata": {},
   "outputs": [
    {
     "name": "stdout",
     "output_type": "stream",
     "text": [
      "Wall time: 0 ns\n",
      "178\n"
     ]
    }
   ],
   "source": [
    "%time\n",
    "# @njit(fastmath = True)\n",
    "print(len([''.join(i) for i in product('CZ', repeat=10) if ('CCC' not in ''.join(i) and 'ZZZ' not in ''.join(i))]))\n",
    "    "
   ]
  },
  {
   "cell_type": "code",
   "execution_count": null,
   "metadata": {},
   "outputs": [],
   "source": [
    "#pip install numba"
   ]
  },
  {
   "cell_type": "code",
   "execution_count": 10,
   "metadata": {},
   "outputs": [],
   "source": [
    "from numba import njit"
   ]
  },
  {
   "cell_type": "code",
   "execution_count": null,
   "metadata": {},
   "outputs": [],
   "source": [
    "@njit(fastmath = True)\n",
    "\n",
    "def is_prime(num):\n",
    "    if num ==2:\n",
    "        return True\n",
    "    if num <= 1 or not num % 2:\n",
    "        return False\n",
    "    for div in range (3, int(math.sqrt(num)) + 1, 2):\n",
    "        if not num % div:\n",
    "            return False \n",
    "    return True          "
   ]
  },
  {
   "cell_type": "code",
   "execution_count": null,
   "metadata": {},
   "outputs": [],
   "source": [
    "@njit(fastmath = True)\n",
    "def run_progarm(N):\n",
    "    for i in range(N):\n",
    "        is_prime(i)        "
   ]
  },
  {
   "cell_type": "code",
   "execution_count": null,
   "metadata": {},
   "outputs": [],
   "source": [
    "if __name__ == '__main__':\n",
    "    N = 1000000\n",
    "    start = perf_counter()\n",
    "    run_progarm(N)\n",
    "    end = perf_counter()\n",
    "    print(end - start)"
   ]
  },
  {
   "cell_type": "code",
   "execution_count": 12,
   "metadata": {},
   "outputs": [],
   "source": [
    "from numba import prange"
   ]
  },
  {
   "cell_type": "code",
   "execution_count": null,
   "metadata": {},
   "outputs": [],
   "source": [
    "@njit(fastmath = True, parallel = True)\n",
    "\n",
    "def is_prime(num):\n",
    "    if num ==2:\n",
    "        return True\n",
    "    if num <= 1 or not num % 2:\n",
    "        return False\n",
    "    for div in range (3, int(math.sqrt(num)) + 1, 2):\n",
    "        if not num % div:\n",
    "            return False \n",
    "    return True          "
   ]
  },
  {
   "cell_type": "code",
   "execution_count": null,
   "metadata": {},
   "outputs": [],
   "source": [
    "@njit(fastmath = True, parallel = True)\n",
    "def run_progarm(N):\n",
    "    for i in range(N):\n",
    "        is_prime(i)        "
   ]
  },
  {
   "cell_type": "code",
   "execution_count": null,
   "metadata": {},
   "outputs": [],
   "source": [
    "if __name__ == '__main__':\n",
    "    N = 1000000\n",
    "    start = perf_counter()\n",
    "    run_progarm(N)\n",
    "    end = perf_counter()\n",
    "    print(end - start)"
   ]
  },
  {
   "cell_type": "code",
   "execution_count": null,
   "metadata": {},
   "outputs": [],
   "source": []
  }
 ],
 "metadata": {
  "kernelspec": {
   "display_name": "Python 3",
   "language": "python",
   "name": "python3"
  },
  "language_info": {
   "codemirror_mode": {
    "name": "ipython",
    "version": 3
   },
   "file_extension": ".py",
   "mimetype": "text/x-python",
   "name": "python",
   "nbconvert_exporter": "python",
   "pygments_lexer": "ipython3",
   "version": "3.7.6"
  }
 },
 "nbformat": 4,
 "nbformat_minor": 4
}
