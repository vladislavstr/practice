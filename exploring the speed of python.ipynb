{
 "cells": [
  {
   "cell_type": "code",
   "execution_count": 1,
   "metadata": {},
   "outputs": [],
   "source": [
    "import math "
   ]
  },
  {
   "cell_type": "code",
   "execution_count": 2,
   "metadata": {},
   "outputs": [],
   "source": [
    "def is_prime(num):\n",
    "    if num ==2:\n",
    "        return True\n",
    "    if num <= 1 or not num % 2:\n",
    "        return False\n",
    "    for div in range (3, int(math.sqrt(num)) + 1, 2):\n",
    "        if not num % div:\n",
    "            return False \n",
    "    return True          "
   ]
  },
  {
   "cell_type": "code",
   "execution_count": 3,
   "metadata": {},
   "outputs": [],
   "source": [
    "def run_progarm(N):\n",
    "    for i in range(N):\n",
    "        res = is_prime(i)\n",
    "        print(f'{i} - {res}')"
   ]
  },
  {
   "cell_type": "code",
   "execution_count": 4,
   "metadata": {},
   "outputs": [
    {
     "name": "stdout",
     "output_type": "stream",
     "text": [
      "0 - False\n",
      "1 - False\n",
      "2 - True\n",
      "3 - True\n",
      "4 - False\n",
      "5 - True\n",
      "6 - False\n",
      "7 - True\n",
      "8 - False\n",
      "9 - False\n",
      "10 - False\n",
      "11 - True\n",
      "12 - False\n",
      "13 - True\n",
      "14 - False\n",
      "15 - False\n",
      "16 - False\n",
      "17 - True\n",
      "18 - False\n",
      "19 - True\n"
     ]
    }
   ],
   "source": [
    "if __name__ == '__main__':\n",
    "    N = 20\n",
    "    run_progarm(N)"
   ]
  },
  {
   "cell_type": "code",
   "execution_count": 5,
   "metadata": {},
   "outputs": [],
   "source": [
    "from time import perf_counter"
   ]
  },
  {
   "cell_type": "code",
   "execution_count": 6,
   "metadata": {},
   "outputs": [],
   "source": [
    "def run_progarm(N):\n",
    "    for i in range(N):\n",
    "        is_prime(i)        "
   ]
  },
  {
   "cell_type": "code",
   "execution_count": 7,
   "metadata": {},
   "outputs": [
    {
     "name": "stdout",
     "output_type": "stream",
     "text": [
      "1.8767160550000002\n"
     ]
    }
   ],
   "source": [
    "if __name__ == '__main__':\n",
    "    N = 1000000\n",
    "    start = perf_counter()\n",
    "    run_progarm(N)\n",
    "    end = perf_counter()\n",
    "    print(end - start)"
   ]
  },
  {
   "cell_type": "code",
   "execution_count": 8,
   "metadata": {},
   "outputs": [],
   "source": [
    "#pip install numba"
   ]
  },
  {
   "cell_type": "code",
   "execution_count": 9,
   "metadata": {},
   "outputs": [],
   "source": [
    "from numba import njit"
   ]
  },
  {
   "cell_type": "code",
   "execution_count": 10,
   "metadata": {},
   "outputs": [],
   "source": [
    "@njit(fastmath = True)\n",
    "\n",
    "def is_prime(num):\n",
    "    if num ==2:\n",
    "        return True\n",
    "    if num <= 1 or not num % 2:\n",
    "        return False\n",
    "    for div in range (3, int(math.sqrt(num)) + 1, 2):\n",
    "        if not num % div:\n",
    "            return False \n",
    "    return True          "
   ]
  },
  {
   "cell_type": "code",
   "execution_count": 11,
   "metadata": {},
   "outputs": [],
   "source": [
    "@njit(fastmath = True)\n",
    "def run_progarm(N):\n",
    "    for i in range(N):\n",
    "        is_prime(i)        "
   ]
  },
  {
   "cell_type": "code",
   "execution_count": 12,
   "metadata": {},
   "outputs": [
    {
     "name": "stdout",
     "output_type": "stream",
     "text": [
      "0.5002637779999999\n"
     ]
    }
   ],
   "source": [
    "if __name__ == '__main__':\n",
    "    N = 1000000\n",
    "    start = perf_counter()\n",
    "    run_progarm(N)\n",
    "    end = perf_counter()\n",
    "    print(end - start)"
   ]
  },
  {
   "cell_type": "code",
   "execution_count": 13,
   "metadata": {},
   "outputs": [],
   "source": [
    "from numba import prange"
   ]
  },
  {
   "cell_type": "code",
   "execution_count": 14,
   "metadata": {},
   "outputs": [],
   "source": [
    "@njit(fastmath = True, parallel = True)\n",
    "\n",
    "def is_prime(num):\n",
    "    if num ==2:\n",
    "        return True\n",
    "    if num <= 1 or not num % 2:\n",
    "        return False\n",
    "    for div in range (3, int(math.sqrt(num)) + 1, 2):\n",
    "        if not num % div:\n",
    "            return False \n",
    "    return True          "
   ]
  },
  {
   "cell_type": "code",
   "execution_count": 15,
   "metadata": {},
   "outputs": [],
   "source": [
    "@njit(fastmath = True, parallel = True)\n",
    "def run_progarm(N):\n",
    "    for i in range(N):\n",
    "        is_prime(i)        "
   ]
  },
  {
   "cell_type": "code",
   "execution_count": 16,
   "metadata": {},
   "outputs": [
    {
     "name": "stderr",
     "output_type": "stream",
     "text": [
      "<ipython-input-15-5bc073614b71>:4: NumbaPerformanceWarning: \u001b[1m\u001b[1m\n",
      "The keyword argument 'parallel=True' was specified but no transformation for parallel execution was possible.\n",
      "\n",
      "To find out why, try turning on parallel diagnostics, see https://numba.pydata.org/numba-doc/latest/user/parallel.html#diagnostics for help.\n",
      "\u001b[1m\n",
      "File \"<ipython-input-14-4466fa16f40e>\", line 3:\u001b[0m\n",
      "\u001b[1m\n",
      "\u001b[1mdef is_prime(num):\n",
      "\u001b[0m\u001b[1m^\u001b[0m\u001b[0m\n",
      "\u001b[0m\u001b[0m\n",
      "  is_prime(i)\n",
      "C:\\ProgramData\\Anaconda3\\lib\\site-packages\\numba\\core\\typed_passes.py:316: NumbaPerformanceWarning: \u001b[1m\n",
      "The keyword argument 'parallel=True' was specified but no transformation for parallel execution was possible.\n",
      "\n",
      "To find out why, try turning on parallel diagnostics, see https://numba.pydata.org/numba-doc/latest/user/parallel.html#diagnostics for help.\n",
      "\u001b[1m\n",
      "File \"<ipython-input-15-5bc073614b71>\", line 2:\u001b[0m\n",
      "\u001b[1m@njit(fastmath = True, parallel = True)\n",
      "\u001b[1mdef run_progarm(N):\n",
      "\u001b[0m\u001b[1m^\u001b[0m\u001b[0m\n",
      "\u001b[0m\n",
      "  state.func_ir.loc))\n"
     ]
    },
    {
     "name": "stdout",
     "output_type": "stream",
     "text": [
      "0.3333580740000004\n"
     ]
    }
   ],
   "source": [
    "if __name__ == '__main__':\n",
    "    N = 1000000\n",
    "    start = perf_counter()\n",
    "    run_progarm(N)\n",
    "    end = perf_counter()\n",
    "    print(end - start)"
   ]
  },
  {
   "cell_type": "code",
   "execution_count": null,
   "metadata": {},
   "outputs": [],
   "source": []
  }
 ],
 "metadata": {
  "kernelspec": {
   "display_name": "Python 3",
   "language": "python",
   "name": "python3"
  },
  "language_info": {
   "codemirror_mode": {
    "name": "ipython",
    "version": 3
   },
   "file_extension": ".py",
   "mimetype": "text/x-python",
   "name": "python",
   "nbconvert_exporter": "python",
   "pygments_lexer": "ipython3",
   "version": "3.7.6"
  }
 },
 "nbformat": 4,
 "nbformat_minor": 4
}
