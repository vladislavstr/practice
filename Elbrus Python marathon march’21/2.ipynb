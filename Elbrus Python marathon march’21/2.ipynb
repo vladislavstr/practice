{
 "cells": [
  {
   "cell_type": "markdown",
   "metadata": {},
   "source": [
    "# Вторая задача\n",
    "\n",
    "Вы с друзьями собираетесь встретиться 14 июля в городе Минеральные Воды, чтобы дальше отправиться на восхождение. У вас есть данные о том, сколько они проведут в полёте. Вам нужно выбрать время вылета, чтобы всем вместе встретиться. Давайте узнаем, кто и когда должен вылететь из своего города, чтобы оказаться в аэропорту Минеральных Вод в назначенное время?\n",
    "\n",
    "Напишите функцию, которая принимает на вход город вылета [город прилёта по умолчанию Минеральные Воды], время прилёта (местное, в часах) и день прилёта в Минеральные Воды. Функция выдаёт время и день вылета из города (местное) вашего друга. Прямые рейсы в Минеральные Воды только из Москвы, то есть все сначала летят в Москву. Время на пересадку 1 час.\n",
    "\n",
    "Входные параметры: город вылета - строка, время прилёта (в формате 24 часов, без минут) и день - оба типа int. Считаем, что восхождение планируется только в июле.\n",
    "\n",
    "Мы знаем часовые пояса городов, в которых находятся ваши друзья и время полета до Москвы"
   ]
  },
  {
   "cell_type": "code",
   "execution_count": 1,
   "metadata": {},
   "outputs": [],
   "source": [
    "import datetime\n",
    "from datetime import date, timedelta"
   ]
  },
  {
   "cell_type": "code",
   "execution_count": 2,
   "metadata": {},
   "outputs": [],
   "source": [
    "# Для оформления \n",
    "bold_start = '\\033[1m'\n",
    "yellow = '\\033[33m'\n",
    "red = '\\033[31m'\n",
    "violet = '\\033[35m'\n",
    "blue = '\\033[34m'\n",
    "green = '\\033[32m'\n",
    "green_background = '\\033[42m'\n",
    "red_background = '\\033[41m'\n",
    "bold_end   = '\\033[0m'"
   ]
  },
  {
   "cell_type": "markdown",
   "metadata": {},
   "source": [
    "```python\n",
    "\"Буэнос-Айрес\": -3,\n",
    "\"Буэнос-Айрес\": 20,\n",
    "```"
   ]
  },
  {
   "cell_type": "code",
   "execution_count": 3,
   "metadata": {},
   "outputs": [
    {
     "name": "stdout",
     "output_type": "stream",
     "text": [
      "город: Буэнос-Айрес\n",
      "дата прилета 2021-07-14 12:00:00\n",
      "(6, 13, 7)\n"
     ]
    }
   ],
   "source": [
    "def get_departure_time(city, arrival_hour, arrival_day):\n",
    "    print('город:', city)\n",
    "    \n",
    "    date_in = datetime.datetime(2021,7,arrival_day,arrival_hour)\n",
    "    print('дата прилета',date_in.isoformat().replace('T',' '))\n",
    "    \n",
    "    delta = -3 -3\n",
    "    flight_time_to_moscow_from_city = 20\n",
    "    date_out = date_in - timedelta(hours=3) - timedelta(hours=1) + timedelta(hours=delta) - timedelta(hours=flight_time_to_moscow_from_city)\n",
    "    departure_hour = date_out.hour\n",
    "    departure_day = date_out.day\n",
    "    departure_month = date_out.month\n",
    "    return departure_hour, departure_day, departure_month\n",
    "\n",
    "print(get_departure_time(\"Буэнос-Айрес\", 12, 14))\n",
    "#(6, 13, 7)"
   ]
  },
  {
   "cell_type": "code",
   "execution_count": 4,
   "metadata": {},
   "outputs": [],
   "source": [
    "# часовые пояса городов UTC\n",
    "\n",
    "TIME_ZONES = {\n",
    "    \"Буэнос-Айрес\": -3,\n",
    "    \"Рейкьявик\": 0,\n",
    "    \"Калининград\": 2,\n",
    "    \"Москва\": 3,\n",
    "    \"Минеральные Воды\": 3,\n",
    "    \"Санкт-Петербург\": 3,\n",
    "    \"Челябинск\": 5,\n",
    "    \"Красноярск\": 7\n",
    "}\n",
    "\n",
    "# время в часах полёта до/от Москвы\n",
    "\n",
    "flight_time_to_moscow = { \n",
    "    \"Буэнос-Айрес\": 20, \n",
    "    \"Рейкьявик\": 13 ,\n",
    "    \"Калининград\": 2 ,\n",
    "    \"Минеральные Воды\": 3,\n",
    "    \"Санкт-Петербург\": 2,\n",
    "    \"Челябинск\": 3,\n",
    "    \"Красноярск\": 5\n",
    "}"
   ]
  },
  {
   "cell_type": "code",
   "execution_count": 10,
   "metadata": {},
   "outputs": [],
   "source": [
    "def get_departure_time(city, arrival_hour, arrival_day):\n",
    "        #print('город:', city)\n",
    "\n",
    "        date_in = datetime.datetime(2021,7,arrival_day,arrival_hour)\n",
    "        #print(blue, 'дата прилета',date_in.isoformat().replace('T',' '), bold_end)\n",
    "        \n",
    "        if city == 'Москва':\n",
    "            date_out = date_in - timedelta(hours=3)\n",
    "            \n",
    "            departure_hour = date_out.hour # время вылета\n",
    "            departure_day = date_out.day #дата вылета\n",
    "            departure_month = date_out.month #месяц вылета\n",
    "            \n",
    "            #print(violet, 'дата вылета',date_out.isoformat().replace('T',' '), bold_end)\n",
    "            #print(bold_start, green_background, departure_hour, departure_day, departure_month, bold_end)\n",
    "            #print('#############'*5,'\\n')\n",
    "            return departure_hour, departure_day, departure_month\n",
    "        \n",
    "        elif city == 'Минеральные Воды':\n",
    "            date_out = date_in\n",
    "            \n",
    "            departure_hour = date_out.hour # время вылета\n",
    "            departure_day = date_out.day #дата вылета\n",
    "            departure_month = date_out.month #месяц вылета\n",
    "            \n",
    "            #print(violet, 'дата вылета',date_out.isoformat().replace('T',' '), bold_end)\n",
    "            #print(bold_start, green_background, departure_hour, departure_day, departure_month, bold_end)\n",
    "            #print('#############'*5,'\\n')\n",
    "            return departure_hour, departure_day, departure_month\n",
    "        \n",
    "        else:    \n",
    "            delta = TIME_ZONES[city] -3\n",
    "            flight_time_to_moscow_from_city = flight_time_to_moscow[city]\n",
    "        \n",
    "            date_out = date_in - timedelta(hours=3) - timedelta(hours=1) + timedelta(hours=delta) - timedelta(hours=flight_time_to_moscow_from_city)\n",
    "            \n",
    "            departure_hour = date_out.hour # время вылета\n",
    "            departure_day = date_out.day #дата вылета\n",
    "            departure_month = date_out.month #месяц вылета\n",
    "            \n",
    "            #print(violet, 'дата вылета',date_out.isoformat().replace('T',' '), bold_end)\n",
    "            #print(bold_start, green_background, departure_hour, departure_day, departure_month, bold_end)\n",
    "            #print('#############'*5,'\\n')\n",
    "            return departure_hour, departure_day, departure_month"
   ]
  },
  {
   "cell_type": "markdown",
   "metadata": {},
   "source": [
    "```python\n",
    "get_departure_time(city, 10, 31)\n",
    "\n",
    "Буэнос-Айрес (4, 30, 7)\n",
    "Рейкьявик (14, 30, 7)\n",
    "Калининград (3, 31, 7)\n",
    "Москва (7, 31, 7)\n",
    "Минеральные Воды (10, 31, 7)\n",
    "Санкт-Петербург (4, 31, 7)\n",
    "Челябинск (5, 31, 7)\n",
    "Красноярск (5, 31, 7)\n",
    "\n",
    "```"
   ]
  },
  {
   "cell_type": "code",
   "execution_count": 6,
   "metadata": {},
   "outputs": [
    {
     "name": "stdout",
     "output_type": "stream",
     "text": [
      "город: Буэнос-Айрес\n",
      "\u001b[1m \u001b[42m 4 30 7 \u001b[0m\n",
      "город: Рейкьявик\n",
      "\u001b[1m \u001b[42m 14 30 7 \u001b[0m\n",
      "город: Калининград\n",
      "\u001b[1m \u001b[42m 3 31 7 \u001b[0m\n",
      "город: Москва\n",
      "\u001b[1m \u001b[42m 7 31 7 \u001b[0m\n",
      "город: Минеральные Воды\n",
      "\u001b[1m \u001b[42m 10 31 7 \u001b[0m\n",
      "город: Санкт-Петербург\n",
      "\u001b[1m \u001b[42m 4 31 7 \u001b[0m\n",
      "город: Челябинск\n",
      "\u001b[1m \u001b[42m 5 31 7 \u001b[0m\n",
      "город: Красноярск\n",
      "\u001b[1m \u001b[42m 5 31 7 \u001b[0m\n",
      "354\n"
     ]
    }
   ],
   "source": [
    "test_4 = [sum(get_departure_time(city, 10, 31)) for city in TIME_ZONES]\n",
    "print(sum(test_4))"
   ]
  },
  {
   "cell_type": "markdown",
   "metadata": {},
   "source": [
    "Тестовые контрольные суммы (нужно прислать значения этих переменных)"
   ]
  },
  {
   "cell_type": "code",
   "execution_count": 11,
   "metadata": {},
   "outputs": [
    {
     "name": "stdout",
     "output_type": "stream",
     "text": [
      "172\n",
      "154\n",
      "386\n"
     ]
    }
   ],
   "source": [
    "test_1 = [sum(get_departure_time(city, 10, 1)) for city in TIME_ZONES]\n",
    "print(sum(test_1))\n",
    "\n",
    "test_2 = [sum(get_departure_time(city, 12, 4)) for city in TIME_ZONES]\n",
    "print(sum(test_2))\n",
    "\n",
    "test_3 = [sum(get_departure_time(city, 14, 31)) for city in TIME_ZONES]\n",
    "print(sum(test_3))"
   ]
  },
  {
   "cell_type": "markdown",
   "metadata": {},
   "source": [
    "```python\n",
    "Ответ на второе задание\n",
    "с комментариями\n",
    "\n",
    "def get_departure_time(city, arrival_hour, arrival_day):\n",
    "    if city == 'Минеральные Воды': # проверяем город отправления, если МинВоды - то мы никуда и не летим\n",
    "        travel_time = 0\n",
    "    elif city == 'Москва': # если Эмск, то нам не нужна пересадка и время в пути равно времени полёта в МинВоды\n",
    "        travel_time = flight_time_to_moscow['Минеральные Воды']\n",
    "    else:\n",
    "        transfer = 1\n",
    "        from_mos_to_mrv = 3 # время перелёта из Москвы в Минеральные воды\n",
    "        travel_time = flight_time_to_moscow[city] + transfer + from_mos_to_mrv\n",
    "        \n",
    "    departure_hour = arrival_hour - travel_time + (TIME_ZONES[city]-TIME_ZONES['Москва'])\n",
    "    departure_day = arrival_day + (departure_hour // 24) # получаем день отправления (целочисленное деление)\n",
    "    departure_hour = departure_hour % 24 # час отправления (остаток от деления)\n",
    "    departure_month = 7\n",
    "    if departure_day <= 0: # если день отправления стал меньше или больше 0 \n",
    "        departure_month = 6 # значит это июнь\n",
    "        departure_day += 30\n",
    "    return departure_hour, departure_day, departure_month\n",
    "\n",
    "get_departure_time(\"Буэнос-Айрес\", 12, 14)\n",
    "\n",
    "\n",
    "\n",
    "Примеры использования *args \n",
    "\n",
    "\n",
    "cities = (\n",
    "    \"Буэнос-Айрес\",\n",
    "    \"Рейкьявик\",\n",
    "    \"Калининград\",\n",
    "    \"Москва\",\n",
    "    \"Минеральные Воды\",\n",
    "    \"Санкт-Петербург\",\n",
    "    \"Челябинск\",\n",
    "    \"Красноярск\"\n",
    ")\n",
    "\n",
    "def get_departure_time_args(*cities, arrival_hour, arrival_day):\n",
    "    for city in cities:       \n",
    "        if city == 'Минеральные Воды':\n",
    "            travel_time = 0\n",
    "        elif city == 'Москва':\n",
    "            travel_time = 3\n",
    "        else:\n",
    "            transfer = 1\n",
    "            from_mos_to_mrv = 3\n",
    "            travel_time = flight_time_to_moscow[city] + transfer + from_mos_to_mrv\n",
    "        departure_hour = arrival_hour - travel_time + (TIME_ZONES[city]-3)\n",
    "        departure_day = arrival_day + (departure_hour // 24)\n",
    "        departure_hour = departure_hour % 24\n",
    "        departure_month = 'июля'\n",
    "        if departure_day <= 0:\n",
    "            departure_month = 'июня'\n",
    "            departure_day += 30\n",
    "        print(f'Наш друг из города {city} должен вылететь к нам в {departure_hour}:00 {departure_day}-го {departure_month}')\n",
    "          \n",
    "get_departure_time_args(\n",
    "    \"Буэнос-Айрес\",\n",
    "    \"Рейкьявик\",\n",
    "    \"Калининград\",\n",
    "    \"Москва\",\n",
    "    arrival_hour=10, arrival_day=1)\n",
    "\n",
    "\n",
    "get_departure_time_args(\n",
    "    *cities, \n",
    "    arrival_hour=10, \n",
    "    arrival_day=1)\n",
    "\n",
    "\n",
    "fruits = ['lemon', 'pear', 'watermelon', 'tomato', 'avacado']\n",
    "first, second, *remaining = fruits\n",
    "\n",
    "print(first)\n",
    "print(second) \n",
    "print(remaining)\n",
    "\n",
    "\n",
    "\n",
    "a = [1, 2, 3]\n",
    "b = [*a, 4, 5, 6]\n",
    "print(b) \n",
    "\n",
    "def f(a, b, *args):\n",
    "    return a + b + sum(args)\n",
    "```"
   ]
  },
  {
   "cell_type": "markdown",
   "metadata": {},
   "source": [
    "---\n",
    "результаты работы функции присылайте в гугл-форму:\n",
    "https://docs.google.com/forms/d/e/1FAIpQLSfiNWdUizppu_fRx7lTmiiY1ErZA7TNF_KL93SrGSWf7tgX6w/viewform\n",
    "\n",
    "завтра в 19.00 по той же ссылке в зуме будет разбор задачи и условие следующей."
   ]
  }
 ],
 "metadata": {
  "kernelspec": {
   "display_name": "Python 3",
   "language": "python",
   "name": "python3"
  },
  "language_info": {
   "codemirror_mode": {
    "name": "ipython",
    "version": 3
   },
   "file_extension": ".py",
   "mimetype": "text/x-python",
   "name": "python",
   "nbconvert_exporter": "python",
   "pygments_lexer": "ipython3",
   "version": "3.8.5"
  }
 },
 "nbformat": 4,
 "nbformat_minor": 4
}
