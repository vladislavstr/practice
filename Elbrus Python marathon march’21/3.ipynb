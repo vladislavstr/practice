{
 "cells": [
  {
   "cell_type": "markdown",
   "metadata": {},
   "source": [
    "# Третья задача\n",
    "\n",
    "Вы прибыли в Минеральные Воды и там отдохнули. После этого направились в поселок Азау, к нижней станции канатной маятниковой дороги. По ней со снаряжением и продуктами подниметесь до горного приюта \"Ветер\", на высоту 3720 м. Здесь вы поселитесь на время восхождения.\n",
    "\n",
    "Встать на восхождение нужно будет очень рано, в 2:00. После завтрака вы возьмете с собой термосы и еду для перекуса и выйдете на восхождение к западной вершине горы. Подъем займет от 8 до 10 часов.\n",
    "\n",
    "Вы на середине пути, на перевалочном пункте. Открывается просто невероятный вид! Вы хотите запечатлеть на фотоаппарат открывшиеся перед вами горы, их вершины и склоны...\n",
    "\n",
    "Напишите функцию, которая принимает на вход список int'ов (целых неотрицательных чисел) и возвращает массив массивов. Число вложенных массивов равно максимальному значению из входного списка, то есть это будет высота горы. Каждое число изначального массива находится на своём индексе, но на \"высоте\" равным его значению. Под значениями находятся числа на единицу меньше, над значениями (кроме самой вершины) из входного массива - нули.\n"
   ]
  },
  {
   "cell_type": "markdown",
   "metadata": {},
   "source": [
    "```python\n",
    "def get_mountain_picture(flat_array):\n",
    "    return ...\n",
    "```\n",
    "\n",
    "**Пример**\n",
    "```python\n",
    "mountain_01 = [1, 3, 2, 0]\n",
    "result_01 = get_mountain_picture(mountain_01)\n",
    "\n",
    "\n",
    "print(result_01)\n",
    "[\n",
    "    [0, 3, 0, 0],\n",
    "    [0, 2, 2, 0],\n",
    "    [1, 1, 1, 0]\n",
    "]\n",
    "\n",
    "mountain_02 = [1, 2, 3, 4, 2, 3, 2]\n",
    "result_02 = get_mountain_picture(mountain_02)\n",
    "print(result_02)\n",
    "[\n",
    "    [0, 0, 0, 4, 0, 0, 0],\n",
    "    [0, 0, 3, 3, 0, 3, 0],\n",
    "    [0, 2, 2, 2, 2, 2, 2],\n",
    "    [1, 1, 1, 1, 1, 1, 1],\n",
    "]\n",
    "```"
   ]
  },
  {
   "cell_type": "markdown",
   "metadata": {},
   "source": [
    "## Контрольные суммы "
   ]
  },
  {
   "cell_type": "code",
   "execution_count": 1,
   "metadata": {},
   "outputs": [],
   "source": [
    "mountain1 = [0, 1, 2, 4, 5, 3]\n",
    "mountain2 = [6, 5, 2, 4, 3, 2, 1, 0]\n",
    "mountain3 = [0, 1, 1, 2, 3, 4, 3, 2, 2, 1, 0]"
   ]
  },
  {
   "cell_type": "code",
   "execution_count": 2,
   "metadata": {},
   "outputs": [],
   "source": [
    "def get_mountain_picture(a):\n",
    "    h = max(a)\n",
    "    arr = []\n",
    "    for p, r in enumerate([a for i in range(h)]):\n",
    "        row = [0 if r[i] < h-p else h-p for i in range(len(a))]\n",
    "        arr.append(row)\n",
    "    return arr"
   ]
  },
  {
   "cell_type": "code",
   "execution_count": 3,
   "metadata": {},
   "outputs": [],
   "source": [
    "result_1 = get_mountain_picture(mountain1)\n",
    "result_2 = get_mountain_picture(mountain2)\n",
    "result_3 = get_mountain_picture(mountain3)"
   ]
  },
  {
   "cell_type": "code",
   "execution_count": 6,
   "metadata": {},
   "outputs": [
    {
     "data": {
      "text/plain": [
       "35"
      ]
     },
     "metadata": {},
     "output_type": "display_data"
    },
    {
     "data": {
      "text/plain": [
       "59"
      ]
     },
     "metadata": {},
     "output_type": "display_data"
    },
    {
     "data": {
      "text/plain": [
       "34"
      ]
     },
     "metadata": {},
     "output_type": "display_data"
    }
   ],
   "source": [
    "test1 = [sum(row) for row in result_1]\n",
    "display(sum(test1))\n",
    "\n",
    "test2 = [sum(row) for row in result_2]\n",
    "display(sum(test2))\n",
    "\n",
    "test3 = [sum(row) for row in result_3]\n",
    "display(sum(test3))"
   ]
  },
  {
   "cell_type": "code",
   "execution_count": 7,
   "metadata": {},
   "outputs": [
    {
     "data": {
      "text/plain": [
       "[0, 1, 1, 2, 3, 4, 3, 2, 2, 1, 0]"
      ]
     },
     "execution_count": 7,
     "metadata": {},
     "output_type": "execute_result"
    }
   ],
   "source": [
    "mountain3"
   ]
  },
  {
   "cell_type": "code",
   "execution_count": 5,
   "metadata": {},
   "outputs": [
    {
     "name": "stdout",
     "output_type": "stream",
     "text": [
      "[0, 1, 1, 4, 9, 16, 9, 4, 4, 1, 0]\n"
     ]
    }
   ],
   "source": [
    "#Пример работы enumerate\n",
    "\n",
    "array = [x*x for i, x in enumerate(mountain3)]\n",
    "print(array)"
   ]
  },
  {
   "cell_type": "markdown",
   "metadata": {},
   "source": [
    "ниже ответ, который нужно отправить в гугл-форму\n",
    "https://docs.google.com/forms/d/e/1FAIpQLSfiNWdUizppu_fRx7lTmiiY1ErZA7TNF_KL93SrGSWf7tgX6w/viewform"
   ]
  }
 ],
 "metadata": {
  "kernelspec": {
   "display_name": "Python 3",
   "language": "python",
   "name": "python3"
  },
  "language_info": {
   "codemirror_mode": {
    "name": "ipython",
    "version": 3
   },
   "file_extension": ".py",
   "mimetype": "text/x-python",
   "name": "python",
   "nbconvert_exporter": "python",
   "pygments_lexer": "ipython3",
   "version": "3.8.5"
  }
 },
 "nbformat": 4,
 "nbformat_minor": 4
}
