{
 "cells": [
  {
   "cell_type": "markdown",
   "metadata": {},
   "source": [
    "# Вторая задача\n",
    "\n",
    "Вы с друзьями собираетесь встретиться 14 июля в городе Минеральные Воды, чтобы дальше отправиться на восхождение. У вас есть данные о том, сколько они проведут в полёте. Вам нужно выбрать время вылета, чтобы всем вместе встретиться. Давайте узнаем, кто и когда должен вылететь из своего города, чтобы оказаться в аэропорту Минеральных Вод в назначенное время?\n",
    "\n",
    "Напишите функцию, которая принимает на вход город вылета [город прилёта по умолчанию Минеральные Воды], время прилёта (местное, в часах) и день прилёта в Минеральные Воды. Функция выдаёт время и день вылета из города (местное) вашего друга. Прямые рейсы в Минеральные Воды только из Москвы, то есть все сначала летят в Москву. Время на пересадку 1 час.\n",
    "\n",
    "Входные параметры: город вылета - строка, время прилёта (в формате 24 часов, без минут) и день - оба типа int. Считаем, что восхождение планируется только в июле.\n",
    "\n",
    "Мы знаем часовые пояса городов, в которых находятся ваши друзья и время полета до Москвы"
   ]
  },
  {
   "cell_type": "code",
   "execution_count": 1,
   "metadata": {},
   "outputs": [],
   "source": [
    "import datetime\n",
    "from datetime import date, timedelta"
   ]
  },
  {
   "cell_type": "markdown",
   "metadata": {},
   "source": [
    "```python\n",
    "\"Буэнос-Айрес\": -3,\n",
    "\"Буэнос-Айрес\": 20,\n",
    "```"
   ]
  },
  {
   "cell_type": "code",
   "execution_count": 2,
   "metadata": {},
   "outputs": [
    {
     "name": "stdout",
     "output_type": "stream",
     "text": [
      "город: Буэнос-Айрес\n",
      "дата прилета 2021-07-14 12:00:00\n",
      "(6, 13, 7)\n"
     ]
    }
   ],
   "source": [
    "def get_departure_time(city, arrival_hour, arrival_day):\n",
    "    print('город:', city)\n",
    "    \n",
    "    date_in = datetime.datetime(2021,7,arrival_day,arrival_hour)\n",
    "    print('дата прилета',date_in.isoformat().replace('T',' '))\n",
    "    \n",
    "    delta = -3 -3\n",
    "    flight_time_to_moscow_from_city = 20\n",
    "    date_out = date_in - timedelta(hours=3) - timedelta(hours=1) + timedelta(hours=delta) - timedelta(hours=flight_time_to_moscow_from_city)\n",
    "    departure_hour = date_out.hour\n",
    "    departure_day = date_out.day\n",
    "    departure_month = date_out.month\n",
    "    return departure_hour, departure_day, departure_month\n",
    "\n",
    "print(get_departure_time(\"Буэнос-Айрес\", 12, 14))\n",
    "#(6, 13, 7)"
   ]
  },
  {
   "cell_type": "code",
   "execution_count": 3,
   "metadata": {},
   "outputs": [],
   "source": [
    "# часовые пояса городов UTC\n",
    "\n",
    "TIME_ZONES = {\n",
    "    \"Буэнос-Айрес\": -3,\n",
    "    \"Рейкьявик\": 0,\n",
    "    \"Калининград\": 2,\n",
    "    \"Москва\": 3,\n",
    "    \"Минеральные Воды\": 3,\n",
    "    \"Санкт-Петербург\": 3,\n",
    "    \"Челябинск\": 5,\n",
    "    \"Красноярск\": 7\n",
    "}\n",
    "\n",
    "# время в часах полёта до/от Москвы\n",
    "\n",
    "flight_time_to_moscow = { \n",
    "    \"Буэнос-Айрес\": 20, \n",
    "    \"Рейкьявик\": 13 ,\n",
    "    \"Калининград\": 2 ,\n",
    "    \"Минеральные Воды\": 3,\n",
    "    \"Санкт-Петербург\": 2,\n",
    "    \"Челябинск\": 3,\n",
    "    \"Красноярск\": 5\n",
    "}"
   ]
  },
  {
   "cell_type": "code",
   "execution_count": 9,
   "metadata": {},
   "outputs": [],
   "source": [
    "def get_departure_time(city, arrival_hour, arrival_day):\n",
    "        print('город:', city)\n",
    "\n",
    "        date_in = datetime.datetime(2021,7,arrival_day,arrival_hour)\n",
    "        print('дата прилета',date_in.isoformat().replace('T',' '))\n",
    "        if city == 'Москва':\n",
    "            date_out = date_in - timedelta(hours=3)\n",
    "            \n",
    "            departure_hour = date_out.hour # время вылета\n",
    "            departure_day = date_out.day #дата вылета\n",
    "            departure_month = date_out.month #месяц вылета\n",
    "            \n",
    "            print(departure_hour, departure_day, departure_month)\n",
    "            return departure_hour, departure_day, departure_month\n",
    "        else:    \n",
    "            delta = TIME_ZONES[city] -3\n",
    "            flight_time_to_moscow_from_city = flight_time_to_moscow[city]\n",
    "        \n",
    "            date_out = date_in - timedelta(hours=3) - timedelta(hours=1) + timedelta(hours=delta) - timedelta(hours=flight_time_to_moscow_from_city)\n",
    "            \n",
    "            departure_hour = date_out.hour # время вылета\n",
    "            departure_day = date_out.day #дата вылета\n",
    "            departure_month = date_out.month #месяц вылета\n",
    "            \n",
    "            print(departure_hour, departure_day, departure_month)\n",
    "            return departure_hour, departure_day, departure_month"
   ]
  },
  {
   "cell_type": "markdown",
   "metadata": {},
   "source": [
    "Тестовые контрольные суммы (нужно прислать значения этих переменных)"
   ]
  },
  {
   "cell_type": "code",
   "execution_count": 11,
   "metadata": {},
   "outputs": [
    {
     "name": "stdout",
     "output_type": "stream",
     "text": [
      "город: Буэнос-Айрес\n",
      "дата прилета 2021-07-14 12:00:00\n",
      "6 13 7\n",
      "город: Рейкьявик\n",
      "дата прилета 2021-07-14 12:00:00\n",
      "16 13 7\n",
      "город: Калининград\n",
      "дата прилета 2021-07-14 12:00:00\n",
      "5 14 7\n",
      "город: Москва\n",
      "дата прилета 2021-07-14 12:00:00\n",
      "9 14 7\n",
      "город: Минеральные Воды\n",
      "дата прилета 2021-07-14 12:00:00\n",
      "5 14 7\n",
      "город: Санкт-Петербург\n",
      "дата прилета 2021-07-14 12:00:00\n",
      "6 14 7\n",
      "город: Челябинск\n",
      "дата прилета 2021-07-14 12:00:00\n",
      "7 14 7\n",
      "город: Красноярск\n",
      "дата прилета 2021-07-14 12:00:00\n",
      "7 14 7\n",
      "227\n",
      "город: Буэнос-Айрес\n",
      "дата прилета 2021-07-01 10:00:00\n",
      "4 30 6\n",
      "город: Рейкьявик\n",
      "дата прилета 2021-07-01 10:00:00\n",
      "14 30 6\n",
      "город: Калининград\n",
      "дата прилета 2021-07-01 10:00:00\n",
      "3 1 7\n",
      "город: Москва\n",
      "дата прилета 2021-07-01 10:00:00\n",
      "7 1 7\n",
      "город: Минеральные Воды\n",
      "дата прилета 2021-07-01 10:00:00\n",
      "3 1 7\n",
      "город: Санкт-Петербург\n",
      "дата прилета 2021-07-01 10:00:00\n",
      "4 1 7\n",
      "город: Челябинск\n",
      "дата прилета 2021-07-01 10:00:00\n",
      "5 1 7\n",
      "город: Красноярск\n",
      "дата прилета 2021-07-01 10:00:00\n",
      "5 1 7\n",
      "165\n",
      "город: Буэнос-Айрес\n",
      "дата прилета 2021-07-04 12:00:00\n",
      "6 3 7\n",
      "город: Рейкьявик\n",
      "дата прилета 2021-07-04 12:00:00\n",
      "16 3 7\n",
      "город: Калининград\n",
      "дата прилета 2021-07-04 12:00:00\n",
      "5 4 7\n",
      "город: Москва\n",
      "дата прилета 2021-07-04 12:00:00\n",
      "9 4 7\n",
      "город: Минеральные Воды\n",
      "дата прилета 2021-07-04 12:00:00\n",
      "5 4 7\n",
      "город: Санкт-Петербург\n",
      "дата прилета 2021-07-04 12:00:00\n",
      "6 4 7\n",
      "город: Челябинск\n",
      "дата прилета 2021-07-04 12:00:00\n",
      "7 4 7\n",
      "город: Красноярск\n",
      "дата прилета 2021-07-04 12:00:00\n",
      "7 4 7\n",
      "147\n",
      "город: Буэнос-Айрес\n",
      "дата прилета 2021-07-31 14:00:00\n",
      "8 30 7\n",
      "город: Рейкьявик\n",
      "дата прилета 2021-07-31 14:00:00\n",
      "18 30 7\n",
      "город: Калининград\n",
      "дата прилета 2021-07-31 14:00:00\n",
      "7 31 7\n",
      "город: Москва\n",
      "дата прилета 2021-07-31 14:00:00\n",
      "11 31 7\n",
      "город: Минеральные Воды\n",
      "дата прилета 2021-07-31 14:00:00\n",
      "7 31 7\n",
      "город: Санкт-Петербург\n",
      "дата прилета 2021-07-31 14:00:00\n",
      "8 31 7\n",
      "город: Челябинск\n",
      "дата прилета 2021-07-31 14:00:00\n",
      "9 31 7\n",
      "город: Красноярск\n",
      "дата прилета 2021-07-31 14:00:00\n",
      "9 31 7\n",
      "379\n"
     ]
    }
   ],
   "source": [
    "test_1 = [sum(get_departure_time(city, 12, 14)) for city in TIME_ZONES]\n",
    "print(sum(test_1))\n",
    "\n",
    "test_1 = [sum(get_departure_time(city, 10, 1)) for city in TIME_ZONES]\n",
    "print(sum(test_1))\n",
    "\n",
    "test_2 = [sum(get_departure_time(city, 12, 4)) for city in TIME_ZONES]\n",
    "print(sum(test_2))\n",
    "\n",
    "test_3 = [sum(get_departure_time(city, 14, 31)) for city in TIME_ZONES]\n",
    "print(sum(test_3))"
   ]
  },
  {
   "cell_type": "markdown",
   "metadata": {},
   "source": [
    "---\n",
    "результаты работы функции присылайте в гугл-форму:\n",
    "https://docs.google.com/forms/d/e/1FAIpQLSfiNWdUizppu_fRx7lTmiiY1ErZA7TNF_KL93SrGSWf7tgX6w/viewform\n",
    "\n",
    "завтра в 19.00 по той же ссылке в зуме будет разбор задачи и условие следующей."
   ]
  }
 ],
 "metadata": {
  "kernelspec": {
   "display_name": "Python 3",
   "language": "python",
   "name": "python3"
  },
  "language_info": {
   "codemirror_mode": {
    "name": "ipython",
    "version": 3
   },
   "file_extension": ".py",
   "mimetype": "text/x-python",
   "name": "python",
   "nbconvert_exporter": "python",
   "pygments_lexer": "ipython3",
   "version": "3.7.6"
  }
 },
 "nbformat": 4,
 "nbformat_minor": 4
}
