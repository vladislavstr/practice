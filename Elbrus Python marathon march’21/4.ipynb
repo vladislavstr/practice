{
 "cells": [
  {
   "cell_type": "markdown",
   "metadata": {},
   "source": [
    "#Четвёртая задача\n",
    "\n",
    "Ура! Вы почти добрались до вершины Эльбруса! Сделали прекрасные снимки гор на рассвете! Но перед вами осталась последняя задача. Вы видите перед собой пропасть, которой раньше на этом пути восхождения не было. Из-за глобального потепления в этом году в расщелине растаял лёд, который раньше служил мостом для альпинистов. Чтобы оказаться на вершине вам нужно преодолеть расщелину и оказаться на другой стороне. Нужно связать между собой несколько тросов с карабинами и перебраться на другую сторону!\n",
    "\n",
    "У вас есть два типа тросов: c соединением типа 'Z' и типа 'C'. Данные типы тросов могут быть использованы в связке только в таком порядке, что последовательно может находиться только максимум два одинаковых типа подряд, но не более (CCC или ZZZ связать нельзя). Напишите функцию, которая считает количество возможных связок заданной длины (количество тросов каждого типа не ограничено).\n",
    "\n",
    "Например, для длины 3 возможные связки CCZ CZZ CZC ZZC ZCZ ZCC Итого, 6.\n",
    "\n",
    "```python\n",
    "def get_tros(n):\n",
    "    return ...\n",
    "```\n",
    "\n",
    "В качестве ответа введите количество различных тросов длины 15, 20, и 25."
   ]
  },
  {
   "cell_type": "code",
   "execution_count": 1,
   "metadata": {},
   "outputs": [],
   "source": [
    "import math\n",
    "\n",
    "from itertools import product"
   ]
  },
  {
   "cell_type": "code",
   "execution_count": 4,
   "metadata": {},
   "outputs": [
    {
     "name": "stdout",
     "output_type": "stream",
     "text": [
      "['CCZCC', 'CCZCZ', 'CCZZC', 'CZCCZ', 'CZCZC', 'CZCZZ', 'CZZCC', 'CZZCZ', 'ZCCZC', 'ZCCZZ', 'ZCZCC', 'ZCZCZ', 'ZCZZC', 'ZZCCZ', 'ZZCZC', 'ZZCZZ']\n",
      "16\n"
     ]
    }
   ],
   "source": [
    "print([''. join(i) for i in product('CZ', repeat=5) if ('CCC' not in ''.join(i) and 'ZZZ' not in ''.join(i))])\n",
    "print(len([''. join(i) for i in product('CZ', repeat=5) if ('CCC' not in ''.join(i) and 'ZZZ' not in ''.join(i))]))"
   ]
  },
  {
   "cell_type": "code",
   "execution_count": 3,
   "metadata": {
    "scrolled": true
   },
   "outputs": [
    {
     "name": "stdout",
     "output_type": "stream",
     "text": [
      "1974\n",
      "21892\n",
      "242786\n"
     ]
    }
   ],
   "source": [
    "for n in [15, 20, 25]:\n",
    "    print(len([''. join(i) for i in product('CZ', repeat=n) if ('CCC' not in ''.join(i) and 'ZZZ' not in ''.join(i))]))"
   ]
  }
 ],
 "metadata": {
  "kernelspec": {
   "display_name": "Python 3",
   "language": "python",
   "name": "python3"
  },
  "language_info": {
   "codemirror_mode": {
    "name": "ipython",
    "version": 3
   },
   "file_extension": ".py",
   "mimetype": "text/x-python",
   "name": "python",
   "nbconvert_exporter": "python",
   "pygments_lexer": "ipython3",
   "version": "3.7.6"
  }
 },
 "nbformat": 4,
 "nbformat_minor": 4
}
