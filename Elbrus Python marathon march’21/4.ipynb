{
 "cells": [
  {
   "cell_type": "markdown",
   "metadata": {},
   "source": [
    "#Четвёртая задача\n",
    "\n",
    "Ура! Вы почти добрались до вершины Эльбруса! Сделали прекрасные снимки гор на рассвете! Но перед вами осталась последняя задача. Вы видите перед собой пропасть, которой раньше на этом пути восхождения не было. Из-за глобального потепления в этом году в расщелине растаял лёд, который раньше служил мостом для альпинистов. Чтобы оказаться на вершине вам нужно преодолеть расщелину и оказаться на другой стороне. Нужно связать между собой несколько тросов с карабинами и перебраться на другую сторону!\n",
    "\n",
    "У вас есть два типа тросов: c соединением типа 'Z' и типа 'C'. Данные типы тросов могут быть использованы в связке только в таком порядке, что последовательно может находиться только максимум два одинаковых типа подряд, но не более (CCC или ZZZ связать нельзя). Напишите функцию, которая считает количество возможных связок заданной длины (количество тросов каждого типа не ограничено).\n",
    "\n",
    "Например, для длины 3 возможные связки CCZ CZZ CZC ZZC ZCZ ZCC Итого, 6.\n",
    "\n",
    "```python\n",
    "def get_tros(n):\n",
    "    return ...\n",
    "```\n",
    "\n",
    "В качестве ответа введите количество различных тросов длины 15, 20, и 25."
   ]
  },
  {
   "cell_type": "code",
   "execution_count": 1,
   "metadata": {},
   "outputs": [],
   "source": [
    "import math\n",
    "# n = int(input('Fact: '))\n",
    "# res = math.factorial(n)\n",
    "# print(res)"
   ]
  },
  {
   "cell_type": "code",
   "execution_count": 2,
   "metadata": {},
   "outputs": [],
   "source": [
    "def get_tros(n):\n",
    "    nf = math.factorial(n)\n",
    "    nkf = math.factorial(n - 4) \n",
    "    res = int(nf/nkf)\n",
    "    return res"
   ]
  },
  {
   "cell_type": "code",
   "execution_count": 3,
   "metadata": {},
   "outputs": [
    {
     "name": "stdout",
     "output_type": "stream",
     "text": [
      "15:\n",
      "32760\n",
      "20:\n",
      "116280\n",
      "25:\n",
      "303600\n",
      "100:\n",
      "94109400\n"
     ]
    }
   ],
   "source": [
    "for i in (15,20,25,100):\n",
    "    \n",
    "    print(f'{i}:')\n",
    "    print(get_tros(i))\n",
    "    #print('#####'*5,'\\n')"
   ]
  },
  {
   "cell_type": "code",
   "execution_count": null,
   "metadata": {},
   "outputs": [],
   "source": []
  },
  {
   "cell_type": "code",
   "execution_count": null,
   "metadata": {},
   "outputs": [],
   "source": []
  }
 ],
 "metadata": {
  "kernelspec": {
   "display_name": "Python 3",
   "language": "python",
   "name": "python3"
  },
  "language_info": {
   "codemirror_mode": {
    "name": "ipython",
    "version": 3
   },
   "file_extension": ".py",
   "mimetype": "text/x-python",
   "name": "python",
   "nbconvert_exporter": "python",
   "pygments_lexer": "ipython3",
   "version": "3.7.6"
  }
 },
 "nbformat": 4,
 "nbformat_minor": 4
}
