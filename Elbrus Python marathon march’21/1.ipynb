{
 "cells": [
  {
   "cell_type": "markdown",
   "metadata": {},
   "source": [
    "## Первая задача\n",
    "Ура, вы собираетесь в горы! Восхождение на Эльбрус! Давайте соберём рюкзак и взвесим его.\n",
    "\n",
    "Напишите функцию, которая принимает на вход список из строк, и выбирает только те строки, что содержат слова \"походный\", \"туристический\" и другие однокоренные слов \"поход\" и \"турист\".\n",
    "Собранные слова функция \"взвешивает\" - суммирует все порядковые номера букв алфавита (\"абвгдеёжзийклмнопрстуфхцчшщъыьэюя\", a = 1, б = 2, в = 3...) в словах внутри всех строк и выдаёт в качестве результата одно число.\n"
   ]
  },
  {
   "cell_type": "code",
   "execution_count": 1,
   "metadata": {},
   "outputs": [],
   "source": [
    "import re"
   ]
  },
  {
   "cell_type": "code",
   "execution_count": 2,
   "metadata": {},
   "outputs": [],
   "source": [
    "alphabet = ['0',\"а\",\"б\",\"в\",\"г\",\"д\",\"е\",\"ё\",\"ж\",\"з\",\"и\",\"й\",\"к\",\"л\",\"м\",\"н\",\"о\",\n",
    "            \"п\",\"р\",\"с\",\"т\",\"у\",\"ф\",\"х\",\"ц\",\"ч\",\"ш\",\"щ\",\"ъ\",\"ы\",\"ь\",\"э\",\"ю\",\"я\"]"
   ]
  },
  {
   "cell_type": "markdown",
   "metadata": {},
   "source": [
    "### Тестовые списки:"
   ]
  },
  {
   "cell_type": "code",
   "execution_count": 3,
   "metadata": {},
   "outputs": [],
   "source": [
    "mess1 = [\n",
    "    \"солнцезащитный крем да помада для горного похода\",\n",
    "    \"вязанный свитер туриста\",\n",
    "    \"шапка походника вязанная бабулей\",\n",
    "    \"термобельё туристическое\",\n",
    "    \"балаклава туристическая горная\",\n",
    "    \"лёгкое походное полотенце\"\n",
    "]\n",
    "\n",
    "mess2 = [\n",
    "    \"походный рюкзак\",\n",
    "    \"фонарик налобный туристический\",\n",
    "    \"жесткие кошки походные с двумя креплениями\",\n",
    "    \"походные ботинки\",\n",
    "    \"защитные очки горные походные\",\n",
    "    \"куртаветровка походная\",\n",
    "    \"бадлон походный\",\n",
    "    \"флисовая кофта походная\",\n",
    "]\n",
    "\n",
    "mess3 = [\n",
    "    \"хорошее походное настроение\",\n",
    "    \"туристический спальный мешок \",\n",
    "    \"набор туристической посуды\",\n",
    "    \"коврик туристический\",\n",
    "    \"туристические трекинговые носки\",\n",
    "    \"псведотуристические лыжные палки\",\n",
    "    \"туристические трекинговые палки\",\n",
    "    \"мембранные штаны и куртка горно-туристические\",\n",
    "    \"ледоруб туристический\",\n",
    "    \"бивачная  походная обувь\",\n",
    "    \"компактный походный сборник стихов Высоцкого\",\n",
    "    \"перчатки горно-походные\",\n",
    "    \"карабины походные\",\n",
    "]"
   ]
  },
  {
   "cell_type": "code",
   "execution_count": 10,
   "metadata": {},
   "outputs": [],
   "source": [
    "def get_backpacks_weight(mess_on_the_bed):\n",
    "    sum_of_word_in_text = 0\n",
    "    for counter in mess_on_the_bed:\n",
    "        #print(counter)\n",
    "        rend = ''.join(counter.split()) # уберем пробелы   \n",
    "        #rend = re.sub(r'[^A-Za-zA-Яа-я]+','', rend)\n",
    "        #print(rend)\n",
    "        sum_of_word_in_count = 0 \n",
    "        for word in rend:\n",
    "            sum_of_word_in_count = alphabet.index(word) + sum_of_word_in_count\n",
    "            #print(word, '=', alphabet.index(word))\n",
    "        sum_of_word_in_text = sum_of_word_in_count + sum_of_word_in_text\n",
    "        #print(sum_of_word_in_count)  \n",
    "        #print('-----\\n')\n",
    "    print(sum_of_word_in_text) "
   ]
  },
  {
   "cell_type": "code",
   "execution_count": 11,
   "metadata": {},
   "outputs": [
    {
     "name": "stdout",
     "output_type": "stream",
     "text": [
      "2169\n"
     ]
    }
   ],
   "source": [
    "get_backpacks_weight(mess1)"
   ]
  },
  {
   "cell_type": "code",
   "execution_count": 12,
   "metadata": {},
   "outputs": [
    {
     "name": "stdout",
     "output_type": "stream",
     "text": [
      "2528\n"
     ]
    }
   ],
   "source": [
    "get_backpacks_weight(mess2)"
   ]
  },
  {
   "cell_type": "code",
   "execution_count": 13,
   "metadata": {},
   "outputs": [
    {
     "name": "stdout",
     "output_type": "stream",
     "text": [
      "4870\n"
     ]
    }
   ],
   "source": [
    "get_backpacks_weight(mess3)"
   ]
  },
  {
   "cell_type": "markdown",
   "metadata": {},
   "source": [
    "----\n",
    "\n",
    "результаты работы функции на этих списках присылаыйте в гугл-форму:\n",
    "https://docs.google.com/forms/d/e/1FAIpQLSfiNWdUizppu_fRx7lTmiiY1ErZA7TNF_KL93SrGSWf7tgX6w/viewform\n",
    "\n",
    "завтра в 19.00 по той же ссылке в зуме будет разбор задачи и условие следующей.\n",
    "\n",
    "---"
   ]
  },
  {
   "cell_type": "code",
   "execution_count": null,
   "metadata": {},
   "outputs": [],
   "source": []
  }
 ],
 "metadata": {
  "kernelspec": {
   "display_name": "Python 3",
   "language": "python",
   "name": "python3"
  },
  "language_info": {
   "codemirror_mode": {
    "name": "ipython",
    "version": 3
   },
   "file_extension": ".py",
   "mimetype": "text/x-python",
   "name": "python",
   "nbconvert_exporter": "python",
   "pygments_lexer": "ipython3",
   "version": "3.7.6"
  }
 },
 "nbformat": 4,
 "nbformat_minor": 4
}
