{
 "cells": [
  {
   "cell_type": "markdown",
   "metadata": {},
   "source": [
    "## Первая задача\n",
    "Ура, вы собираетесь в горы! Восхождение на Эльбрус! Давайте соберём рюкзак и взвесим его.\n",
    "\n",
    "Напишите функцию, которая принимает на вход список из строк, и выбирает только те строки, что содержат слова \"походный\", \"туристический\" и другие однокоренные слов \"поход\" и \"турист\".\n",
    "Собранные слова функция \"взвешивает\" - суммирует все порядковые номера букв алфавита (\"абвгдеёжзийклмнопрстуфхцчшщъыьэюя\", a = 1, б = 2, в = 3...) в словах внутри всех строк и выдаёт в качестве результата одно число.\n"
   ]
  },
  {
   "cell_type": "code",
   "execution_count": 1,
   "metadata": {},
   "outputs": [],
   "source": [
    "import re"
   ]
  },
  {
   "cell_type": "markdown",
   "metadata": {},
   "source": [
    "### Тестовые списки:"
   ]
  },
  {
   "cell_type": "code",
   "execution_count": 2,
   "metadata": {},
   "outputs": [],
   "source": [
    "# Тестовые списки:\n",
    "\n",
    "mess1 = [\n",
    "    \"забытые кем-то ботинки\",\n",
    "    \"собрание сочинений Пушкина\",\n",
    "    \"солнцезащитный крем да помада для горного похода\",\n",
    "    \"вязанный свитер туриста\",\n",
    "    \"шапка походника вязанная бабулей\",\n",
    "    \"термобельё туристическое\",\n",
    "    \"балаклава туристическая горная\",\n",
    "    \"лёгкое походное полотенце\"\n",
    "]\n",
    "\n",
    "mess2 = [\n",
    "    \"электрическая зубная щётка\",\n",
    "    \"тяжелая книга по python\",\n",
    "    \"походный рюкзак\",\n",
    "    \"городской рюкзак\", \n",
    "    \"фонарик налобный туристический\", \n",
    "    \"вечернее платье\", \n",
    "    \"туфли\",\n",
    "    \"жесткие кошки походные с двумя креплениями\",\n",
    "    \"походные ботинки\",\n",
    "    \"защитные очки горные походные\",\n",
    "    \"пляжные принадлежности\",\n",
    "    \"курта-ветровка походная\",\n",
    "    \"ракетка для тенниса\",\n",
    "    \"бадлон походный\",\n",
    "    \"флисовая кофта походная\",\n",
    "    \"любимый свитер Fred Perry без катышек\"\n",
    "]\n",
    "\n",
    "mess3 = [\n",
    "    \"хорошее походное настроение\",\n",
    "    \"туристический спальный мешок \",\n",
    "    \"набор туристической посуды\",\n",
    "    \"чайный сервиз\",\n",
    "    \"коврик туристический\",\n",
    "    \"коврик для кошки\",\n",
    "    \"миска для собаки\",\n",
    "    \"туристические трекинговые носки\",\n",
    "    \"псведотуристические лыжные палки\",\n",
    "    \"туристические трекинговые палки\",\n",
    "    \"мембранные штаны и куртка горно-туристические\",\n",
    "    \"ледоруб туристический\",\n",
    "    \"бивачная  походная обувь\",\n",
    "    \"компактный походный сборник стихов Высоцкого\",\n",
    "    \"перчатки горно-походные\",\n",
    "    \"карабины походные\",\n",
    "    \"фотоаппарат для лучших снимков в инстаграм\"\n",
    "]"
   ]
  },
  {
   "cell_type": "code",
   "execution_count": 3,
   "metadata": {},
   "outputs": [
    {
     "name": "stdout",
     "output_type": "stream",
     "text": [
      "хорошее походное настроение\n",
      "туристический спальный мешок \n",
      "набор туристической посуды\n",
      "чайный сервиз\n",
      "коврик туристический\n",
      "коврик для кошки\n",
      "миска для собаки\n",
      "туристические трекинговые носки\n",
      "псведотуристические лыжные палки\n",
      "туристические трекинговые палки\n",
      "мембранные штаны и куртка горно-туристические\n",
      "ледоруб туристический\n",
      "бивачная  походная обувь\n",
      "компактный походный сборник стихов высоцкого\n",
      "перчатки горно-походные\n",
      "карабины походные\n",
      "фотоаппарат для лучших снимков в инстаграм\n"
     ]
    }
   ],
   "source": [
    "for i in mess3:\n",
    "    print(i.lower())"
   ]
  },
  {
   "cell_type": "markdown",
   "metadata": {},
   "source": [
    "### v.1"
   ]
  },
  {
   "cell_type": "markdown",
   "metadata": {},
   "source": [
    "```python\n",
    "\n",
    "alphabet = ['0',\"а\",\"б\",\"в\",\"г\",\"д\",\"е\",\"ё\",\"ж\",\"з\",\"и\",\"й\",\"к\",\"л\",\"м\",\"н\",\"о\",\n",
    "            \"п\",\"р\",\"с\",\"т\",\"у\",\"ф\",\"х\",\"ц\",\"ч\",\"ш\",\"щ\",\"ъ\",\"ы\",\"ь\",\"э\",\"ю\",\"я\"]\n",
    "\n",
    "def get_backpacks_weight(mess_on_the_bed):\n",
    "    sum_of_word_in_text = 0\n",
    "    for counter in mess_on_the_bed:\n",
    "        #print(counter)\n",
    "        rend = ''.join(counter.split()) # уберем пробелы   \n",
    "        #rend = re.sub(r'[^A-Za-zA-Яа-я]+','', rend)\n",
    "        #print(rend)\n",
    "        sum_of_word_in_count = 0 \n",
    "        for word in rend:\n",
    "            sum_of_word_in_count = alphabet.index(word) + sum_of_word_in_count\n",
    "            #print(word, '=', alphabet.index(word))\n",
    "        sum_of_word_in_text = sum_of_word_in_count + sum_of_word_in_text\n",
    "        #print(sum_of_word_in_count)  \n",
    "        #print('-----\\n')\n",
    "    print(sum_of_word_in_text) \n",
    "\n",
    "get_backpacks_weight(mess1)\n",
    "\n",
    "get_backpacks_weight(mess2)\n",
    "\n",
    "get_backpacks_weight(mess3)\n",
    "```"
   ]
  },
  {
   "cell_type": "markdown",
   "metadata": {},
   "source": [
    "---\n",
    "\n",
    "### v.2"
   ]
  },
  {
   "cell_type": "code",
   "execution_count": 4,
   "metadata": {},
   "outputs": [],
   "source": [
    "def get_backpacks_weight_V2(mess):\n",
    "    alphabet = 'абвгдеёжзийклмнопрстуфхцчшщъыьэюя'\n",
    "    backpack = ''.join([cloth for cloth in mess if 'поход' in cloth.lower() or 'турист' in cloth.lower()])\n",
    "    char_numbers = [(alphabet.find(char) + 1) for char in backpack.lower()]\n",
    "    return sum(char_numbers)"
   ]
  },
  {
   "cell_type": "code",
   "execution_count": 5,
   "metadata": {},
   "outputs": [
    {
     "name": "stdout",
     "output_type": "stream",
     "text": [
      "2169\n",
      "2528\n",
      "4870\n"
     ]
    }
   ],
   "source": [
    "for mess in [mess1, mess2, mess3]:\n",
    "    print(get_backpacks_weight_V2(mess))"
   ]
  },
  {
   "cell_type": "markdown",
   "metadata": {},
   "source": [
    "---\n",
    "\n",
    "### v.3"
   ]
  },
  {
   "cell_type": "code",
   "execution_count": 6,
   "metadata": {},
   "outputs": [],
   "source": [
    "patterns = [\"поход\", \"турист\"]"
   ]
  },
  {
   "cell_type": "code",
   "execution_count": 7,
   "metadata": {},
   "outputs": [
    {
     "data": {
      "text/plain": [
       "{'а': 1,\n",
       " 'б': 2,\n",
       " 'в': 3,\n",
       " 'г': 4,\n",
       " 'д': 5,\n",
       " 'е': 6,\n",
       " 'ё': 7,\n",
       " 'ж': 8,\n",
       " 'з': 9,\n",
       " 'и': 10,\n",
       " 'й': 11,\n",
       " 'к': 12,\n",
       " 'л': 13,\n",
       " 'м': 14,\n",
       " 'н': 15,\n",
       " 'о': 16,\n",
       " 'п': 17,\n",
       " 'р': 18,\n",
       " 'с': 19,\n",
       " 'т': 20,\n",
       " 'у': 21,\n",
       " 'ф': 22,\n",
       " 'х': 23,\n",
       " 'ц': 24,\n",
       " 'ч': 25,\n",
       " 'ш': 26,\n",
       " 'щ': 27,\n",
       " 'ъ': 28,\n",
       " 'ы': 29,\n",
       " 'ь': 30,\n",
       " 'э': 31,\n",
       " 'ю': 32,\n",
       " 'я': 33}"
      ]
     },
     "execution_count": 7,
     "metadata": {},
     "output_type": "execute_result"
    }
   ],
   "source": [
    "alphabet = \"абвгдеёжзийклмнопрстуфхцчшщъыьэюя\"\n",
    "alphabet = dict(zip(alphabet, range(1, len(alphabet)+1)))\n",
    "alphabet"
   ]
  },
  {
   "cell_type": "code",
   "execution_count": 8,
   "metadata": {},
   "outputs": [],
   "source": [
    "def sum_sent_symbols(sent):\n",
    "      return sum([alphabet.get(symbl, 0) for symbl in sent])\n",
    "\n",
    "def get_backpacks_weight_V3(mess_on_the_bed):\n",
    "    total_sum = 0\n",
    "    for sentence in mess_on_the_bed:\n",
    "        for pattern in patterns:\n",
    "            if pattern in sentence:\n",
    "                sent_sum = sum_sent_symbols(sentence)\n",
    "                total_sum+=sent_sum\n",
    "\n",
    "    return total_sum\n",
    "\n",
    "# mess_on_the_bed = [\n",
    "#    \"чёрное платье\",\n",
    "#    \"кофта походная\", \n",
    "#    \"кофта походная\"\n",
    "# ]\n",
    "# assert get_backpacks_weight(mess_on_the_bed) == 197*2\n",
    "# print(get_backpacks_weight(mess_on_the_bed))"
   ]
  },
  {
   "cell_type": "code",
   "execution_count": 9,
   "metadata": {},
   "outputs": [
    {
     "name": "stdout",
     "output_type": "stream",
     "text": [
      "2169\n",
      "2528\n",
      "4870\n"
     ]
    }
   ],
   "source": [
    "mess3lower = []\n",
    "for i in mess3:\n",
    "    mess3lower.append(i.lower())\n",
    "    \n",
    "    \n",
    "for mess in [mess1, mess2, mess3lower]:\n",
    "    print(get_backpacks_weight_V3(mess))"
   ]
  },
  {
   "cell_type": "markdown",
   "metadata": {},
   "source": [
    "----\n",
    "\n",
    "результаты работы функции на этих списках присылаыйте в гугл-форму:\n",
    "https://docs.google.com/forms/d/e/1FAIpQLSfiNWdUizppu_fRx7lTmiiY1ErZA7TNF_KL93SrGSWf7tgX6w/viewform\n",
    "\n",
    "завтра в 19.00 по той же ссылке в зуме будет разбор задачи и условие следующей.\n",
    "\n",
    "---"
   ]
  }
 ],
 "metadata": {
  "kernelspec": {
   "display_name": "Python 3",
   "language": "python",
   "name": "python3"
  },
  "language_info": {
   "codemirror_mode": {
    "name": "ipython",
    "version": 3
   },
   "file_extension": ".py",
   "mimetype": "text/x-python",
   "name": "python",
   "nbconvert_exporter": "python",
   "pygments_lexer": "ipython3",
   "version": "3.8.5"
  }
 },
 "nbformat": 4,
 "nbformat_minor": 4
}
