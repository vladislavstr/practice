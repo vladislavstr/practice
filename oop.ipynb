{
 "cells": [
  {
   "cell_type": "code",
   "execution_count": 1,
   "metadata": {},
   "outputs": [],
   "source": [
    "# Объявляем класс под названием myclass\n",
    "# (название может быть любым другим)\n",
    "class myclass:\n",
    "    # Указываем значения аргументов-свойств класса\n",
    "    arg1='Я первое свойство класса'\n",
    "    arg2='Я второе свойство класса'\n",
    "    # Функция конструктор которая запускается при инициализации класса  \n",
    "    def __init__(self, arg0): # аргумент self должен быть во всех методах класса.\n",
    "        # arg0 это аргумент который передается классу при его создании\n",
    "        # Может быть только в конструкторе класса\n",
    "        print('Я '+arg0+' класса, я родился')\n",
    "    # Функция внутри класса является его методом\n",
    "    def gethello(self, username):\n",
    "        # аргумент self должен быть во всех методах класса.\n",
    "        # аргумент username мы придумали сами,  \n",
    "        # будем принимать его при вызове метода\n",
    "        # во внутреннюю переменную s кладем слово Привет\n",
    "        # и имя username (аргумент метода)\n",
    "        s='Привет, '+username\n",
    "        # Метод  возвращает значение внутренней переменной s\n",
    "        return s"
   ]
  },
  {
   "cell_type": "code",
   "execution_count": 2,
   "metadata": {},
   "outputs": [
    {
     "name": "stdout",
     "output_type": "stream",
     "text": [
      "Я первый экземпляр класса, я родился\n",
      "Привет, Елена\n"
     ]
    }
   ],
   "source": [
    "# Создаем экземляр класса в переменной a\n",
    "a=myclass('первый экземпляр')\n",
    "# В переменную b помещаем результат метода a.gethello,\n",
    "# передав методу аргумент 'Елена'\n",
    "b=a.gethello('Елена')\n",
    "# Печатаем переменную b\n",
    "print(b)"
   ]
  },
  {
   "cell_type": "code",
   "execution_count": 3,
   "metadata": {},
   "outputs": [
    {
     "name": "stdout",
     "output_type": "stream",
     "text": [
      "Я первое свойство класса\n",
      "Новое значение второго свойства\n"
     ]
    }
   ],
   "source": [
    "# Печатаем первое свойство экземпляра класса\n",
    "print(a.arg1)\n",
    "# Изменяем свойство arg2 у данного экземпляра класса\n",
    "a.arg2='Новое значение второго свойства'\n",
    "# Печатаем второе свойство экземпляра класса\n",
    "print(a.arg2)"
   ]
  },
  {
   "cell_type": "code",
   "execution_count": 4,
   "metadata": {},
   "outputs": [
    {
     "name": "stdout",
     "output_type": "stream",
     "text": [
      "Я второй экземпляр класса, я родился\n",
      "Я второе свойство класса\n"
     ]
    }
   ],
   "source": [
    "# Создаем еще один экземпляр класса\n",
    "c=myclass('второй экземпляр')\n",
    "# Видим что его свойство arg2 осталось прежним\n",
    "print(c.arg2)"
   ]
  },
  {
   "cell_type": "code",
   "execution_count": 5,
   "metadata": {},
   "outputs": [],
   "source": [
    "# Создаем дочерний класс myclass2 из ранее созданного myclass\n",
    "# c помощью наследования и добавляем в него arg3\n",
    "# и метод getgoodbye\n",
    "class myclass2(myclass):\n",
    "    arg3='Я третье свойство, меня не было в myclass'\n",
    "    # Добавляем метод getgoodbye которого не было в myclass\n",
    "    def getgoodbye(self, username):\n",
    "        s='До свидания, '+username\n",
    "        return s"
   ]
  },
  {
   "cell_type": "code",
   "execution_count": 6,
   "metadata": {},
   "outputs": [
    {
     "name": "stdout",
     "output_type": "stream",
     "text": [
      "Я экземпляр дочернего класса, я родился\n",
      "Я первое свойство класса\n",
      "Я второе свойство класса\n",
      "Я третье свойство, меня не было в myclass\n",
      "Привет, Василий\n",
      "До свидания, Василий\n"
     ]
    }
   ],
   "source": [
    "# Убедимся что в дочернем классе сохранились все свойства и методы\n",
    "# родительского класса и добавились новые\n",
    "# Создаем экземпляр класса myclass2\n",
    "d=myclass2('экземпляр дочернего')\n",
    "# Печатаем аргументы-свойства класса\n",
    "print(d.arg1)\n",
    "print(d.arg2)\n",
    "print(d.arg3)\n",
    "# Проверяем работу методов-функций класса\n",
    "print(d.gethello('Василий'))\n",
    "print(d.getgoodbye('Василий'))"
   ]
  },
  {
   "cell_type": "code",
   "execution_count": 7,
   "metadata": {},
   "outputs": [
    {
     "name": "stdout",
     "output_type": "stream",
     "text": [
      "Я класс унаследованный от myclass2 класса, я родился\n",
      "Саламалейкум, о уважаемый Артём\n"
     ]
    }
   ],
   "source": [
    "# Создадим еще один класс унаследовав его от myclass2\n",
    "# и переопределим в нем метод gethello\n",
    "# продемонстрировав полиморфизм\n",
    "\n",
    "class myclass3(myclass2):\n",
    "    # Переопредилим объявленный в родительских классах\n",
    "    # метод gethello\n",
    "    def gethello(self, username):\n",
    "        s='Саламалейкум, о уважаемый '+username\n",
    "        return s\n",
    "\n",
    "e=myclass3('класс унаследованный от myclass2')\n",
    "print(e.gethello('Артём'))"
   ]
  }
 ],
 "metadata": {
  "kernelspec": {
   "display_name": "Python 3",
   "language": "python",
   "name": "python3"
  },
  "language_info": {
   "codemirror_mode": {
    "name": "ipython",
    "version": 3
   },
   "file_extension": ".py",
   "mimetype": "text/x-python",
   "name": "python",
   "nbconvert_exporter": "python",
   "pygments_lexer": "ipython3",
   "version": "3.7.6"
  }
 },
 "nbformat": 4,
 "nbformat_minor": 4
}
