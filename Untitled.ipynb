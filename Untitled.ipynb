{
 "cells": [
  {
   "cell_type": "code",
   "execution_count": 6,
   "metadata": {},
   "outputs": [
    {
     "data": {
      "text/plain": [
       "'C:\\\\Users\\\\User\\\\Documents\\\\GitHub\\\\practice'"
      ]
     },
     "execution_count": 6,
     "metadata": {},
     "output_type": "execute_result"
    }
   ],
   "source": [
    "#%pwd"
   ]
  },
  {
   "cell_type": "code",
   "execution_count": null,
   "metadata": {},
   "outputs": [],
   "source": [
    "#%lsmagic"
   ]
  },
  {
   "cell_type": "code",
   "execution_count": 10,
   "metadata": {},
   "outputs": [
    {
     "name": "stdout",
     "output_type": "stream",
     "text": [
      "[-5, -1, 1, 3, 6, 10, 17, 22, 22]\n"
     ]
    }
   ],
   "source": [
    "'''\n",
    "Бинарный перебор \n",
    "'''\n",
    "def insertion_binary(data):\n",
    "    data.insert(0, -1)  # костыль, сортировка всегда выкидывает в конец списка первый элемент, он участвует в сортировке, но увы и ах\n",
    "    for i in range(len(data)):\n",
    "        key = data[i]\n",
    "        lo, hi = 0, i - 1\n",
    "        while lo < hi:\n",
    "            mid = lo + (hi - lo) // 2\n",
    "            if key < data[mid]:\n",
    "                hi = mid\n",
    "            else:\n",
    "                lo = mid + 1\n",
    "        for j in range(i, lo, -1):\n",
    "            data[j] = data[j - 1]\n",
    "        data[lo] = key\n",
    "    data.pop()  # удаляем тот самый, лишний элемент\n",
    " \n",
    "    return data\n",
    "\n",
    "\n",
    "ls = [3, -1, 22, 17, 10, -5, 22, 1, 6]\n",
    "\n",
    "\n",
    "print(insertion_binary(ls))    "
   ]
  },
  {
   "cell_type": "code",
   "execution_count": 11,
   "metadata": {},
   "outputs": [
    {
     "data": {
      "text/plain": [
       "[-5, -1, 1, 3, 6, 10, 17, 22, 22]"
      ]
     },
     "execution_count": 11,
     "metadata": {},
     "output_type": "execute_result"
    }
   ],
   "source": [
    "'''\n",
    "Пкзырек перебор \n",
    "'''\n",
    "\n",
    "def bubble_sort(a):\n",
    "    for i in range(len(a), 0, -1):\n",
    "        for j in range(1, i):\n",
    "            if a[j - 1] > a[j]:\n",
    "                a[j - 1], a[j] = a[j], a[j - 1]\n",
    "    return a\n",
    "\n",
    "\n",
    "bubble_sort(ls) "
   ]
  },
  {
   "cell_type": "code",
   "execution_count": null,
   "metadata": {},
   "outputs": [],
   "source": []
  }
 ],
 "metadata": {
  "kernelspec": {
   "display_name": "Python 3",
   "language": "python",
   "name": "python3"
  },
  "language_info": {
   "codemirror_mode": {
    "name": "ipython",
    "version": 3
   },
   "file_extension": ".py",
   "mimetype": "text/x-python",
   "name": "python",
   "nbconvert_exporter": "python",
   "pygments_lexer": "ipython3",
   "version": "3.7.6"
  }
 },
 "nbformat": 4,
 "nbformat_minor": 4
}
